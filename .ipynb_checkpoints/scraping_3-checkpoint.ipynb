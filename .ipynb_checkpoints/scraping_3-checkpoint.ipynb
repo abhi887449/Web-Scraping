{
 "cells": [
  {
   "cell_type": "markdown",
   "id": "6375af80",
   "metadata": {},
   "source": [
    "### Importing BeautifulSoup from bs4 library"
   ]
  },
  {
   "cell_type": "code",
   "execution_count": null,
   "id": "5c1da5ef",
   "metadata": {},
   "outputs": [],
   "source": [
    "from bs4 import BeautifulSoup\n",
    "import requests\n",
    "import re"
   ]
  },
  {
   "cell_type": "code",
   "execution_count": null,
   "id": "39c06248",
   "metadata": {},
   "outputs": [],
   "source": [
    "# Storing all books details\n",
    "all_books_details = []"
   ]
  },
  {
   "cell_type": "markdown",
   "id": "13907270",
   "metadata": {},
   "source": [
    "### Writting function which extract data of each book"
   ]
  },
  {
   "cell_type": "code",
   "execution_count": null,
   "id": "7dbce60e",
   "metadata": {},
   "outputs": [],
   "source": [
    "# function to extract data of each book\n",
    "def extract_book_data(url):\n",
    "    response = requests.get(url)\n",
    "    html = response.text\n",
    "    soup = BeautifulSoup(html,\"html.parser\")\n",
    "    data = soup.find(class_=\"product_main\")\n",
    "    title = data.h1.string\n",
    "    price = float(re.search('[\\d.]+',data.find(class_=\"price_color\").string).group())\n",
    "    quantity = int(re.search('\\d+',data.find(class_=\"instock availability\").contents[-1].strip()).group())\n",
    "    all_books_details.append([title,price,quantity])"
   ]
  },
  {
   "cell_type": "code",
   "execution_count": null,
   "id": "62801df4",
   "metadata": {},
   "outputs": [],
   "source": [
    "base_url = \"https://books.toscrape.com/catalogue/\"\n",
    "response = requests.get(base_url+\"page-1.html\")\n",
    "for x in range(2)\n",
    "    html = BeautifulSoup(response.text,\"html.parser\")\n",
    "    books = html.find_all(class_=\"image_container\")\n",
    "    for link in books:\n",
    "        extract_book_data(base_url+link.a.get(\"href\"))\n",
    "        print(\"done\")\n",
    "    next_page = html.find(class_=\"next\").a.get(\"href\")\n",
    "    response = requests.get(base_url+next_page)\n",
    "print(all_books_details)"
   ]
  },
  {
   "cell_type": "code",
   "execution_count": null,
   "id": "6161cc4a",
   "metadata": {},
   "outputs": [],
   "source": []
  }
 ],
 "metadata": {
  "kernelspec": {
   "display_name": "Python 3 (ipykernel)",
   "language": "python",
   "name": "python3"
  },
  "language_info": {
   "codemirror_mode": {
    "name": "ipython",
    "version": 3
   },
   "file_extension": ".py",
   "mimetype": "text/x-python",
   "name": "python",
   "nbconvert_exporter": "python",
   "pygments_lexer": "ipython3",
   "version": "3.9.12"
  }
 },
 "nbformat": 4,
 "nbformat_minor": 5
}
