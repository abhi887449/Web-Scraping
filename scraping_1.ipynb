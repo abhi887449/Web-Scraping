{
 "cells": [
  {
   "cell_type": "markdown",
   "id": "88eae862",
   "metadata": {},
   "source": [
    "### htmlcode is html code it is either loaded by requesting to server (using request method) or html code in string format."
   ]
  },
  {
   "cell_type": "code",
   "execution_count": 5,
   "id": "1240c719",
   "metadata": {},
   "outputs": [],
   "source": [
    "htmlcode = '<!DOCTYPE html>\\\n",
    "<html>\\\n",
    "<head>\\\n",
    "<style>\\\n",
    ".city {\\\n",
    "  background-color: tomato;\\\n",
    "  color: white;\\\n",
    "  border: 2px solid black;\\\n",
    "  margin: 20px;\\\n",
    "  padding: 20px;\\\n",
    "}\\\n",
    "</style>\\\n",
    "</head>\\\n",
    "<body>\\\n",
    "<div class=\"city\">\\\n",
    "<h2>London</h2>\\\n",
    "<p>London is the capital of England.</p>\\\n",
    "</div> \\\n",
    "<div id=\"abhi\" class=\"city\">\\\n",
    "<h2>Paris</h2>\\\n",
    "<p>Paris is the capital of France.</p>\\\n",
    "</div>\\\n",
    "<a class=\"sister\" href=\"http://example.com/lacie\" id=\"link2\">Lacie</a>\\\n",
    "</body>\\\n",
    "</html>'"
   ]
  },
  {
   "cell_type": "markdown",
   "id": "dbbddbac",
   "metadata": {},
   "source": [
    "### Importing BeautifulSoup from bs4 library"
   ]
  },
  {
   "cell_type": "code",
   "execution_count": 6,
   "id": "1eede221",
   "metadata": {},
   "outputs": [],
   "source": [
    "from bs4 import BeautifulSoup"
   ]
  },
  {
   "cell_type": "markdown",
   "id": "1d7c4115",
   "metadata": {},
   "source": [
    "### Creating BeautifulSoup object"
   ]
  },
  {
   "cell_type": "code",
   "execution_count": 7,
   "id": "d549e9cd",
   "metadata": {},
   "outputs": [
    {
     "name": "stdout",
     "output_type": "stream",
     "text": [
      "<!DOCTYPE html>\n",
      "<html><head><style>.city {  background-color: tomato;  color: white;  border: 2px solid black;  margin: 20px;  padding: 20px;}</style></head><body><div class=\"city\"><h2>London</h2><p>London is the capital of England.</p></div> <div class=\"city\" id=\"abhi\"><h2>Paris</h2><p>Paris is the capital of France.</p></div><a class=\"sister\" href=\"http://example.com/lacie\" id=\"link2\">Lacie</a></body></html>\n"
     ]
    }
   ],
   "source": [
    "# Creating BeautifulSoup object\n",
    "soup  = BeautifulSoup(htmlcode,\"html.parser\")\n",
    "print(soup )"
   ]
  },
  {
   "cell_type": "markdown",
   "id": "42ca7574",
   "metadata": {},
   "source": [
    "### Checking type of soup "
   ]
  },
  {
   "cell_type": "code",
   "execution_count": 8,
   "id": "6f72e640",
   "metadata": {},
   "outputs": [
    {
     "data": {
      "text/plain": [
       "bs4.BeautifulSoup"
      ]
     },
     "execution_count": 8,
     "metadata": {},
     "output_type": "execute_result"
    }
   ],
   "source": [
    "# checking type of soup\n",
    "type(soup )"
   ]
  },
  {
   "cell_type": "markdown",
   "id": "28d8bbcf",
   "metadata": {},
   "source": [
    "### Printing beautifulSoup object in formated way using prettify() method"
   ]
  },
  {
   "cell_type": "code",
   "execution_count": 9,
   "id": "7aceeb4c",
   "metadata": {
    "scrolled": false
   },
   "outputs": [
    {
     "name": "stdout",
     "output_type": "stream",
     "text": [
      "<!DOCTYPE html>\n",
      "<html>\n",
      " <head>\n",
      "  <style>\n",
      "   .city {  background-color: tomato;  color: white;  border: 2px solid black;  margin: 20px;  padding: 20px;}\n",
      "  </style>\n",
      " </head>\n",
      " <body>\n",
      "  <div class=\"city\">\n",
      "   <h2>\n",
      "    London\n",
      "   </h2>\n",
      "   <p>\n",
      "    London is the capital of England.\n",
      "   </p>\n",
      "  </div>\n",
      "  <div class=\"city\" id=\"abhi\">\n",
      "   <h2>\n",
      "    Paris\n",
      "   </h2>\n",
      "   <p>\n",
      "    Paris is the capital of France.\n",
      "   </p>\n",
      "  </div>\n",
      "  <a class=\"sister\" href=\"http://example.com/lacie\" id=\"link2\">\n",
      "   Lacie\n",
      "  </a>\n",
      " </body>\n",
      "</html>\n"
     ]
    }
   ],
   "source": [
    "# printing soup in formated way\n",
    "print(soup.prettify())"
   ]
  },
  {
   "cell_type": "code",
   "execution_count": 10,
   "id": "92429592",
   "metadata": {},
   "outputs": [
    {
     "name": "stdout",
     "output_type": "stream",
     "text": [
      "<head><style>.city {  background-color: tomato;  color: white;  border: 2px solid black;  margin: 20px;  padding: 20px;}</style></head>\n",
      "<h2>London</h2>\n",
      "<p>London is the capital of England.</p>\n"
     ]
    }
   ],
   "source": [
    "# printing head\n",
    "print( soup.head )\n",
    "# printing h2 ( it will print only first ouccurence of h2 )\n",
    "print( soup.h2 )\n",
    "# printing p ( it will print only first ouccurence of p )\n",
    "print( soup.p )"
   ]
  },
  {
   "cell_type": "markdown",
   "id": "6d93ff19",
   "metadata": {},
   "source": [
    "### Accessing tags using tag_names"
   ]
  },
  {
   "cell_type": "code",
   "execution_count": 11,
   "id": "a6e182be",
   "metadata": {
    "scrolled": true
   },
   "outputs": [
    {
     "name": "stdout",
     "output_type": "stream",
     "text": [
      "h2\n",
      "London\n"
     ]
    }
   ],
   "source": [
    "# accessing tag name\n",
    "print( soup.h2.name )\n",
    "# accessing value inside the tag \n",
    "print( soup.h2.string )"
   ]
  },
  {
   "cell_type": "markdown",
   "id": "52aa3695",
   "metadata": {},
   "source": [
    "### Accessing atributes of tags"
   ]
  },
  {
   "cell_type": "code",
   "execution_count": 12,
   "id": "6e462f8d",
   "metadata": {
    "scrolled": true
   },
   "outputs": [
    {
     "name": "stdout",
     "output_type": "stream",
     "text": [
      "{'class': ['city']}\n"
     ]
    }
   ],
   "source": [
    "# printting all attributes\n",
    "print( soup.div.attrs )"
   ]
  },
  {
   "cell_type": "markdown",
   "id": "3330ce58",
   "metadata": {},
   "source": [
    "### Using get() and get_text()"
   ]
  },
  {
   "cell_type": "code",
   "execution_count": 13,
   "id": "fb84f099",
   "metadata": {},
   "outputs": [
    {
     "name": "stdout",
     "output_type": "stream",
     "text": [
      "['city']\n",
      "LondonLondon is the capital of England.\n"
     ]
    }
   ],
   "source": [
    "# soup.tag_name.get('class') will return list of classes\n",
    "print( soup.div.get('class') )\n",
    "# soup.tag_name.get_text( ) will return text all inside the tag \n",
    "print( soup.div.get_text( ) )"
   ]
  },
  {
   "cell_type": "markdown",
   "id": "9a070d6f",
   "metadata": {},
   "source": [
    "### Using find() and find_all()"
   ]
  },
  {
   "cell_type": "code",
   "execution_count": 14,
   "id": "116c1f58",
   "metadata": {
    "scrolled": true
   },
   "outputs": [
    {
     "name": "stdout",
     "output_type": "stream",
     "text": [
      "<p>London is the capital of England.</p>\n",
      "[<p>London is the capital of England.</p>, <p>Paris is the capital of France.</p>]\n"
     ]
    }
   ],
   "source": [
    "# soup.find( \"p\" ) will return the first p tag\n",
    "print( soup.find(\"p\") )\n",
    "# soup.find( \"p\" ) will return a list of all p tag\n",
    "print( soup.find_all(\"p\") )"
   ]
  },
  {
   "cell_type": "markdown",
   "id": "7a2ac1b5",
   "metadata": {},
   "source": [
    "### Searching in parse tree using find( ) and find_all( )"
   ]
  },
  {
   "cell_type": "code",
   "execution_count": 15,
   "id": "edb3436e",
   "metadata": {},
   "outputs": [
    {
     "name": "stdout",
     "output_type": "stream",
     "text": [
      "[<p>London is the capital of England.</p>, <p>Paris is the capital of France.</p>]\n"
     ]
    }
   ],
   "source": [
    "# finding tags using string \n",
    "#return first tag matched with string\n",
    "print( soup.find_all(\"p\") )"
   ]
  },
  {
   "cell_type": "code",
   "execution_count": 16,
   "id": "3ecd495c",
   "metadata": {},
   "outputs": [
    {
     "name": "stdout",
     "output_type": "stream",
     "text": [
      "[<h2>London</h2>, <p>London is the capital of England.</p>, <h2>Paris</h2>, <p>Paris is the capital of France.</p>]\n"
     ]
    }
   ],
   "source": [
    "# finding tags using list of tag names\n",
    "# return all tags listed in the list\n",
    "print( soup.find_all(['h2','p']) )"
   ]
  },
  {
   "cell_type": "code",
   "execution_count": 17,
   "id": "38a3316e",
   "metadata": {
    "scrolled": true
   },
   "outputs": [
    {
     "name": "stdout",
     "output_type": "stream",
     "text": [
      "[<html><head><style>.city {  background-color: tomato;  color: white;  border: 2px solid black;  margin: 20px;  padding: 20px;}</style></head><body><div class=\"city\"><h2>London</h2><p>London is the capital of England.</p></div> <div class=\"city\" id=\"abhi\"><h2>Paris</h2><p>Paris is the capital of France.</p></div><a class=\"sister\" href=\"http://example.com/lacie\" id=\"link2\">Lacie</a></body></html>, <head><style>.city {  background-color: tomato;  color: white;  border: 2px solid black;  margin: 20px;  padding: 20px;}</style></head>, <style>.city {  background-color: tomato;  color: white;  border: 2px solid black;  margin: 20px;  padding: 20px;}</style>, <body><div class=\"city\"><h2>London</h2><p>London is the capital of England.</p></div> <div class=\"city\" id=\"abhi\"><h2>Paris</h2><p>Paris is the capital of France.</p></div><a class=\"sister\" href=\"http://example.com/lacie\" id=\"link2\">Lacie</a></body>, <div class=\"city\"><h2>London</h2><p>London is the capital of England.</p></div>, <h2>London</h2>, <p>London is the capital of England.</p>, <div class=\"city\" id=\"abhi\"><h2>Paris</h2><p>Paris is the capital of France.</p></div>, <h2>Paris</h2>, <p>Paris is the capital of France.</p>, <a class=\"sister\" href=\"http://example.com/lacie\" id=\"link2\">Lacie</a>]\n"
     ]
    }
   ],
   "source": [
    "# finding tags using True\n",
    "# return all content\n",
    "print( soup.find_all(True) )"
   ]
  },
  {
   "cell_type": "code",
   "execution_count": 18,
   "id": "ea676280",
   "metadata": {
    "scrolled": true
   },
   "outputs": [
    {
     "name": "stdout",
     "output_type": "stream",
     "text": [
      "[<a class=\"sister\" href=\"http://example.com/lacie\" id=\"link2\">Lacie</a>]\n"
     ]
    }
   ],
   "source": [
    "# finding tags using id\n",
    "# return list of tag with given id\n",
    "print( soup.find_all(id=\"link2\") )"
   ]
  },
  {
   "cell_type": "code",
   "execution_count": 19,
   "id": "15c232e1",
   "metadata": {
    "scrolled": true
   },
   "outputs": [
    {
     "name": "stdout",
     "output_type": "stream",
     "text": [
      "[<div class=\"city\"><h2>London</h2><p>London is the capital of England.</p></div>, <div class=\"city\" id=\"abhi\"><h2>Paris</h2><p>Paris is the capital of France.</p></div>]\n"
     ]
    }
   ],
   "source": [
    "# finding tags using class\n",
    "# return list of tags with given class\n",
    "print( soup.find_all(class_=\"city\") )"
   ]
  },
  {
   "cell_type": "code",
   "execution_count": 20,
   "id": "248f6ff7",
   "metadata": {},
   "outputs": [
    {
     "name": "stdout",
     "output_type": "stream",
     "text": [
      "[<div class=\"city\"><h2>London</h2><p>London is the capital of England.</p></div>, <div class=\"city\" id=\"abhi\"><h2>Paris</h2><p>Paris is the capital of France.</p></div>]\n",
      "\n",
      "[<div class=\"city\"><h2>London</h2><p>London is the capital of England.</p></div>, <div class=\"city\" id=\"abhi\"><h2>Paris</h2><p>Paris is the capital of France.</p></div>, <a class=\"sister\" href=\"http://example.com/lacie\" id=\"link2\">Lacie</a>]\n"
     ]
    }
   ],
   "source": [
    "# finding tags using css selector\n",
    "print( soup.select(\"div.city\") )\n",
    "print( )\n",
    "print( soup.select(\"div,a\") )"
   ]
  },
  {
   "cell_type": "markdown",
   "id": "aeb95b4a",
   "metadata": {},
   "source": [
    "### Navigating in parse tree"
   ]
  },
  {
   "cell_type": "code",
   "execution_count": 21,
   "id": "bb0f8810",
   "metadata": {
    "scrolled": true
   },
   "outputs": [
    {
     "name": "stdout",
     "output_type": "stream",
     "text": [
      "<body><div class=\"city\"><h2>London</h2><p>London is the capital of England.</p></div> <div class=\"city\" id=\"abhi\"><h2>Paris</h2><p>Paris is the capital of France.</p></div><a class=\"sister\" href=\"http://example.com/lacie\" id=\"link2\">Lacie</a></body>\n",
      "\n",
      "<a class=\"sister\" href=\"http://example.com/lacie\" id=\"link2\">Lacie</a>\n",
      "\n",
      "<div class=\"city\"><h2>London</h2><p>London is the capital of England.</p></div>\n",
      "\n",
      "<p>London is the capital of England.</p>\n"
     ]
    }
   ],
   "source": [
    "# Printing body\n",
    "print( soup.body )\n",
    "print( )\n",
    "# nesting in body\n",
    "print( soup.body.a )\n",
    "print( )\n",
    "print( soup.div )\n",
    "print( )\n",
    "# nesting in div\n",
    "print( soup.div.p )"
   ]
  },
  {
   "cell_type": "markdown",
   "id": "780743e0",
   "metadata": {},
   "source": [
    "### printing strings inside tags"
   ]
  },
  {
   "cell_type": "code",
   "execution_count": 22,
   "id": "af6f62e2",
   "metadata": {
    "scrolled": true
   },
   "outputs": [
    {
     "name": "stdout",
     "output_type": "stream",
     "text": [
      "None\n",
      "['London', 'London is the capital of England.']\n"
     ]
    }
   ],
   "source": [
    "# soup.tag_name.string will only print string of tag having one child\n",
    "print(soup.div.string)\n",
    "# accessing string inside tags having multiple childs\n",
    "print(list(soup.div.strings))"
   ]
  },
  {
   "cell_type": "code",
   "execution_count": 23,
   "id": "f3c32617",
   "metadata": {
    "scrolled": true
   },
   "outputs": [
    {
     "name": "stdout",
     "output_type": "stream",
     "text": [
      "['London', 'London is the capital of England.']\n"
     ]
    }
   ],
   "source": [
    "# accessing strings after removing extra spaces from beginning and end\n",
    "print(list(soup.div.stripped_strings))"
   ]
  },
  {
   "cell_type": "markdown",
   "id": "5ba3a614",
   "metadata": {},
   "source": [
    "### accessing every childs of a tag"
   ]
  },
  {
   "cell_type": "code",
   "execution_count": 24,
   "id": "b455c666",
   "metadata": {},
   "outputs": [
    {
     "name": "stdout",
     "output_type": "stream",
     "text": [
      "[<h2>London</h2>, <p>London is the capital of England.</p>]\n"
     ]
    }
   ],
   "source": [
    "# soup.tag_name.contents will return list of childrens\n",
    "print( soup.div.contents )"
   ]
  },
  {
   "cell_type": "code",
   "execution_count": 25,
   "id": "91e9fa40",
   "metadata": {},
   "outputs": [
    {
     "name": "stdout",
     "output_type": "stream",
     "text": [
      "<class 'list_iterator'>\n",
      "\n",
      "<h2>London</h2>\n",
      "<p>London is the capital of England.</p>\n"
     ]
    }
   ],
   "source": [
    "# soup.tag_name.children will return iterator of list having all childrens\n",
    "childrens = soup.div.children\n",
    "print(type(childrens))\n",
    "print()\n",
    "for i in childrens:\n",
    "    print(i)"
   ]
  },
  {
   "cell_type": "code",
   "execution_count": 26,
   "id": "e7adcdb9",
   "metadata": {},
   "outputs": [
    {
     "name": "stdout",
     "output_type": "stream",
     "text": [
      "4\n",
      "[<h2>London</h2>, 'London', <p>London is the capital of England.</p>, 'London is the capital of England.']\n"
     ]
    }
   ],
   "source": [
    "# soup.tag_name.descendants will return a list of every thing inside the tag\n",
    "descendants = list(soup.div.descendants)\n",
    "print(len(descendants))\n",
    "print(descendants)"
   ]
  },
  {
   "cell_type": "code",
   "execution_count": null,
   "id": "7297e405",
   "metadata": {},
   "outputs": [],
   "source": []
  },
  {
   "cell_type": "code",
   "execution_count": null,
   "id": "7ec82cbb",
   "metadata": {},
   "outputs": [],
   "source": []
  }
 ],
 "metadata": {
  "kernelspec": {
   "display_name": "Python 3 (ipykernel)",
   "language": "python",
   "name": "python3"
  },
  "language_info": {
   "codemirror_mode": {
    "name": "ipython",
    "version": 3
   },
   "file_extension": ".py",
   "mimetype": "text/x-python",
   "name": "python",
   "nbconvert_exporter": "python",
   "pygments_lexer": "ipython3",
   "version": "3.9.12"
  }
 },
 "nbformat": 4,
 "nbformat_minor": 5
}
